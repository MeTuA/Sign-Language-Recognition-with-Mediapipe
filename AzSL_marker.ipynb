{
  "cells": [
    {
      "cell_type": "code",
      "execution_count": null,
      "metadata": {
        "id": "LjCahEVQCOVM"
      },
      "outputs": [],
      "source": [
        "!pip install -q mediapipe==0.10.0"
      ]
    },
    {
      "cell_type": "code",
      "execution_count": null,
      "metadata": {
        "id": "zlOApNeuCWKk"
      },
      "outputs": [],
      "source": [
        "!wget -q https://storage.googleapis.com/mediapipe-models/hand_landmarker/hand_landmarker/float16/1/hand_landmarker.task"
      ]
    },
    {
      "cell_type": "code",
      "execution_count": null,
      "metadata": {
        "id": "yv7862u7Cc6W"
      },
      "outputs": [],
      "source": [
        "\n",
        "from mediapipe import solutions\n",
        "from mediapipe.framework.formats import landmark_pb2\n",
        "import numpy as np\n",
        "\n",
        "import cv2\n",
        "import copy\n",
        "from google.colab.patches import cv2_imshow\n",
        "\n",
        "\n",
        "MARGIN = 10  # pixels\n",
        "FONT_SIZE = 1\n",
        "FONT_THICKNESS = 1\n",
        "HANDEDNESS_TEXT_COLOR = (88, 205, 54) # vibrant green\n",
        "\n",
        "def draw_landmarks_on_image(rgb_image, detection_result):\n",
        "  hand_landmarks_list = detection_result.hand_landmarks\n",
        "  handedness_list = detection_result.handedness\n",
        "  annotated_image = np.copy(rgb_image)\n",
        "\n",
        "  # Loop through the detected hands to visualize.\n",
        "  for idx in range(len(hand_landmarks_list)):\n",
        "    hand_landmarks = hand_landmarks_list[idx]\n",
        "    handedness = handedness_list[idx]\n",
        "\n",
        "    # Draw the hand landmarks.\n",
        "    hand_landmarks_proto = landmark_pb2.NormalizedLandmarkList()\n",
        "    hand_landmarks_proto.landmark.extend([\n",
        "      landmark_pb2.NormalizedLandmark(x=landmark.x, y=landmark.y, z=landmark.z) for landmark in hand_landmarks\n",
        "    ])\n",
        "    solutions.drawing_utils.draw_landmarks(\n",
        "      annotated_image,\n",
        "      hand_landmarks_proto,\n",
        "      solutions.hands.HAND_CONNECTIONS,\n",
        "      solutions.drawing_styles.get_default_hand_landmarks_style(),\n",
        "      solutions.drawing_styles.get_default_hand_connections_style())\n",
        "\n",
        "    # Get the top left corner of the detected hand's bounding box.\n",
        "    height, width, _ = annotated_image.shape\n",
        "    x_coordinates = [landmark.x for landmark in hand_landmarks]\n",
        "    y_coordinates = [landmark.y for landmark in hand_landmarks]\n",
        "    text_x = int(min(x_coordinates) * width)\n",
        "    text_y = int(min(y_coordinates) * height) - MARGIN\n",
        "\n",
        "    # Draw handedness (left or right hand) on the image.\n",
        "    # cv2.putText(annotated_image, f\"{handedness[0].category_name}\",\n",
        "    #             (text_x, text_y), cv2.FONT_HERSHEY_DUPLEX,\n",
        "    #             FONT_SIZE, HANDEDNESS_TEXT_COLOR, FONT_THICKNESS, cv2.LINE_AA)\n",
        "\n",
        "  return annotated_image\n",
        "\n",
        "def pre_process_landmark(landmark_list):\n",
        "    temp_landmark_list = copy.deepcopy(landmark_list)\n",
        "\n",
        "    # Convert to relative coordinates\n",
        "    base_x, base_y = 0, 0\n",
        "    for index, landmark_point in enumerate(temp_landmark_list):\n",
        "        if index == 0:\n",
        "            base_x, base_y = landmark_point[0], landmark_point[1]\n",
        "\n",
        "        temp_landmark_list[index][0] = temp_landmark_list[index][0] - base_x\n",
        "        temp_landmark_list[index][1] = temp_landmark_list[index][1] - base_y\n",
        "\n",
        "    # Convert to a one-dimensional list\n",
        "    temp_landmark_list = list(\n",
        "        itertools.chain.from_iterable(temp_landmark_list))\n",
        "\n",
        "    # Normalization\n",
        "    max_value = max(list(map(abs, temp_landmark_list)))\n",
        "\n",
        "    def normalize_(n):\n",
        "        return n / max_value\n",
        "\n",
        "    temp_landmark_list = list(map(normalize_, temp_landmark_list))\n",
        "\n",
        "    return temp_landmark_list\n",
        "\n",
        "\n",
        "def calc_landmark_list(image, landmarks):\n",
        "    image_width, image_height = image.shape[1], image.shape[0]\n",
        "\n",
        "    landmark_point = []\n",
        "\n",
        "    # Keypoint\n",
        "    for _, landmark in enumerate(landmarks.landmark):\n",
        "        landmark_x = min(int(landmark.x * image_width), image_width - 1)\n",
        "        landmark_y = min(int(landmark.y * image_height), image_height - 1)\n",
        "        # landmark_z = landmark.z\n",
        "\n",
        "        landmark_point.append([landmark_x, landmark_y])\n",
        "\n",
        "    return landmark_point\n",
        "\n"
      ]
    },
    {
      "cell_type": "code",
      "execution_count": null,
      "metadata": {
        "colab": {
          "base_uri": "https://localhost:8080/"
        },
        "id": "_wSwxAJ2D-01",
        "outputId": "32a48e7d-209a-41c4-c25f-d3f55d7bce51"
      },
      "outputs": [
        {
          "name": "stdout",
          "output_type": "stream",
          "text": [
            "Drive already mounted at /content/drive; to attempt to forcibly remount, call drive.mount(\"/content/drive\", force_remount=True).\n"
          ]
        }
      ],
      "source": [
        "from google.colab import drive\n",
        "drive.mount('/content/drive')\n",
        "classesMap = {'0':'A +', '1':'B +','2':'C +', '3':'E +','4':'H +'}\n",
        "DATA_DIR = '/content/drive/MyDrive/JestDiliBot_dataset/'"
      ]
    },
    {
      "cell_type": "code",
      "execution_count": null,
      "metadata": {
        "id": "-vh4vAK5CnuC"
      },
      "outputs": [],
      "source": [
        "import mediapipe as mp\n",
        "from mediapipe.tasks import python\n",
        "from mediapipe.tasks.python import vision\n",
        "import csv\n",
        "import os\n",
        "\n",
        "for letter in classesMap:\n",
        "  csv_file_path = \"/content/landmarks.csv\"\n",
        "  DATADIR = DATA_DIR+classesMap[letter]\n",
        "\n",
        "  with open(csv_file_path, 'a', newline='') as csv_file:\n",
        "      csv_writer = csv.writer(csv_file)\n",
        "\n",
        "      for filename in os.listdir(DATADIR):\n",
        "        if filename.endswith(\".jpg\"):\n",
        "          # MediaPipe detector configuration\n",
        "          base_options = python.BaseOptions(model_asset_path='hand_landmarker.task')\n",
        "          options = vision.HandLandmarkerOptions(base_options=base_options, num_hands=1)\n",
        "          detector = vision.HandLandmarker.create_from_options(options)\n",
        "\n",
        "\n",
        "          image_path = os.path.join(DATADIR, filename)\n",
        "          print(\"image_path: \", image_path)\n",
        "          image = mp.Image.create_from_file(image_path)\n",
        "\n",
        "          detection_result = detector.detect(image)\n",
        "          coordinates = []\n",
        "          for hand_index, hand_landmarks in enumerate(detection_result.hand_landmarks):\n",
        "            for landmark_index, landmark in enumerate(hand_landmarks):\n",
        "              # storing data\n",
        "              row = [letter, int(landmark_index), float(landmark.x), float(landmark.y), landmark.visibility, landmark.presence]\n",
        "              if landmark.presence == 1 or landmark.x == 0.0: continue\n",
        "              coordinates.extend([float(landmark.x), float(landmark.y)])\n",
        "          # writing into csv\n",
        "          csv_writer.writerow([letter]+ coordinates)\n",
        "\n",
        "          # showing image in console\n",
        "          # annotated_image = draw_landmarks_on_image(image.numpy_view(), detection_result)\n",
        "          # annotated_image = cv2.resize(annotated_image, (256, 256))\n",
        "          # cv2_imshow(cv2.cvtColor(annotated_image, cv2.COLOR_RGB2BGR))"
      ]
    }
  ],
  "metadata": {
    "colab": {
      "provenance": []
    },
    "kernelspec": {
      "display_name": "Python 3",
      "name": "python3"
    },
    "language_info": {
      "name": "python"
    }
  },
  "nbformat": 4,
  "nbformat_minor": 0
}

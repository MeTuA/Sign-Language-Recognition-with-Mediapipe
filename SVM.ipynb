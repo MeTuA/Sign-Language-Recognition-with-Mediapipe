{
 "cells": [
  {
   "cell_type": "code",
   "execution_count": null,
   "metadata": {},
   "outputs": [],
   "source": [
    "import pandas as pd\n",
    "from sklearn.model_selection import train_test_split\n",
    "from sklearn.svm import SVC\n",
    "from sklearn.metrics import accuracy_score, classification_report\n",
    "\n",
    "\n",
    "file_path = '/content/hand_landmarks_data.csv'\n",
    "df = pd.read_csv(file_path)\n",
    "\n",
    "X = df.drop(['Hand','Landmark','Visibility','Presence'], axis=1)\n",
    "y = df['Hand']  #\n",
    "data = pd.concat([X, y], axis=1).dropna()\n",
    "\n",
    "X = data.drop(['Hand'], axis=1)\n",
    "y = data['Hand']\n",
    "\n",
    "X = X.apply(pd.to_numeric, errors='coerce')\n",
    "\n",
    "data = pd.concat([X, y], axis=1).dropna()\n",
    "X = data.drop(['Hand'], axis=1)\n",
    "y = data['Hand']\n",
    "\n",
    "classesMap = {'0':'A+', '1':'B+','2':'C+', '3':'E+','4':'H+'}\n",
    "print(\"Classes in dataset: \", data['Hand'].unique())\n",
    "classes = data['Hand'].unique()\n",
    "for i in (classes):\n",
    "    print(classesMap[i])\n",
    "\n",
    "X_train, X_test, y_train, y_test = train_test_split(X, y, test_size=0.2, random_state=42)\n",
    "\n",
    "svm_model = SVC(kernel='linear')\n",
    "\n",
    "svm_model.fit(X_train, y_train)\n",
    "\n",
    "y_pred = svm_model.predict(X_test)\n",
    "\n",
    "accuracy = accuracy_score(y_test, y_pred)\n",
    "print(f\"Accuracy: {accuracy:.2f}\")\n",
    "\n",
    "print(\"Classification Report:\")\n",
    "print(classification_report(y_test, y_pred))"
   ]
  }
 ],
 "metadata": {
  "language_info": {
   "name": "python"
  }
 },
 "nbformat": 4,
 "nbformat_minor": 2
}
